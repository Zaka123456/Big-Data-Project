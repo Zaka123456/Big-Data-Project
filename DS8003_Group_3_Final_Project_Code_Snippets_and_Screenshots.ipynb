{
  "cells": [
    {
      "cell_type": "markdown",
      "id": "hPGWysMCuJm1",
      "metadata": {
        "id": "hPGWysMCuJm1"
      },
      "source": [
        "# DS8003 Management of Big Data and Tools Final Project Code Snippets and Screenshots\n",
        "## Group 3:\n",
        "- Derek Liu (501279266)\n",
        "- Sazia Afreen (500995892)\n",
        "- Kashish Prasad (501312850)\n",
        "- Muhammad Zaka Shaheryar (500648718)\n",
        "\n",
        "# Project Dataset: Life expectancy & Socio-Economic (world bank)\n",
        "\n",
        "# Table of Contents:\n",
        "1. Data Storage with HDFS\n",
        "2. Data Processing and Data Description with Spark\n",
        "3. Data Query with ElasticSearch (Q1-2)\n",
        "4. Data Query with Spark (Q3)\n",
        "5. Data Query with Hive  (Q4-5)\n",
        "\n",
        "# Part I: Data Storage with HDFS\n",
        "\n",
        "## 1.1. Download the dataset from the Internet\n",
        "Go to the dataset website at Kaggle ([link](https://www.kaggle.com/datasets/mjshri23/life-expectancy-and-socio-economic-world-bank)) and download the dataset `life expectancy.csv`, and rename it as `life_expectancy.csv` to facilitate processing with the command prompt.\n",
        "\n",
        "## 1.2. On local filesystem:\n",
        "1. Create a directory `project` under `/root`\n",
        "```\n",
        "mkdir /root/project\n",
        "```\n",
        "2. Upload the dataset via Filezilla:\n",
        "    - On the right-side box, navigate to `/root/project`\n",
        "    - On the left-side box, navigate and find the `life_expectancy.csv` and drag it to `/root/project` on the right to the Sandbox\n",
        "3. The `project` should be stored in `/root/project`.\n",
        "\n",
        "## 1.3. On HDFS:\n",
        "1. Create a directory `project` in HDFS:\n",
        "```\n",
        "hadoop fs -mkdir /user/root/project\n",
        "```\n",
        "3. Make sure that you’re in the `project` directory\n",
        "```\n",
        "cd project\n",
        "```\n",
        "4. Upload the `life_expectancy.csv` to HDFS:\n",
        "```\n",
        "hadoop fs -put life_expectancy.csv /user/root/project\n",
        "```\n",
        "5. Check the content in the `/user/root/project` directory\n",
        "```\n",
        "hadoop fs -ls /user/root/project\n",
        "```\n",
        "\n",
        "### Snapshot of the virtual environment"
      ]
    },
    {
      "cell_type": "markdown",
      "id": "95b6f3ad",
      "metadata": {
        "id": "95b6f3ad"
      },
      "source": []
    },
    {
      "cell_type": "code",
      "execution_count": null,
      "id": "247d0a41-f68c-42a7-8ee1-e668cb1d99d8",
      "metadata": {
        "colab": {
          "base_uri": "https://localhost:8080/",
          "height": 983
        },
        "id": "247d0a41-f68c-42a7-8ee1-e668cb1d99d8",
        "outputId": "de8d3ef3-4465-4d5f-ca3c-9b782bb48dc2"
      },
      "outputs": [
        {
          "data": {
            "text/html": [
              "<img src=\"https://raw.githubusercontent.com/gingkwan/ds8003_f24/refs/heads/main/project/Part_1.2.1.png\"/>"
            ],
            "text/plain": [
              "<IPython.core.display.Image object>"
            ]
          },
          "execution_count": 2,
          "metadata": {},
          "output_type": "execute_result"
        }
      ],
      "source": [
        "from IPython.display import Image\n",
        "Image(url=\"https://raw.githubusercontent.com/gingkwan/ds8003_f24/refs/heads/main/project/Part_1.2.1.png\")"
      ]
    },
    {
      "cell_type": "code",
      "execution_count": null,
      "id": "OzymRk55LoT1",
      "metadata": {
        "colab": {
          "base_uri": "https://localhost:8080/",
          "height": 163
        },
        "id": "OzymRk55LoT1",
        "outputId": "a9ce5d5e-a682-4bbb-8123-9038e30a7f3d"
      },
      "outputs": [
        {
          "data": {
            "text/html": [
              "<img src=\"https://raw.githubusercontent.com/gingkwan/ds8003_f24/refs/heads/main/project/Part_1.3.png\"/>"
            ],
            "text/plain": [
              "<IPython.core.display.Image object>"
            ]
          },
          "execution_count": 3,
          "metadata": {},
          "output_type": "execute_result"
        }
      ],
      "source": [
        "Image(url=\"https://raw.githubusercontent.com/gingkwan/ds8003_f24/refs/heads/main/project/Part_1.3.png\")"
      ]
    },
    {
      "cell_type": "markdown",
      "id": "Soczg1q8RaHu",
      "metadata": {
        "id": "Soczg1q8RaHu"
      },
      "source": [
        "# Part II: Data Processing and Data Description with Spark\n",
        "\n",
        "## 2.1. Start `pyspark`\n",
        "```\n",
        "pyspark\n",
        "```\n",
        "\n",
        "## 2.2. Load Required Packages and Source Data\n",
        "```\n",
        "from pyspark.sql import SparkSession\n",
        "from pyspark.sql.functions import mean\n",
        "\n",
        "spark = SparkSession.builder.appName(\"LifeExpectancyAnalysis\").getOrCreate()\n",
        "\n",
        "df = spark.read.csv(\"hdfs:///user/root/project/life_expectancy.csv\", header=True, inferSchema=True)\n",
        "```\n",
        "\n",
        "## 2.3. Drop Unnecessary Columns\n",
        "```\n",
        "df_cleaned = df.drop(\"Corruption\", \"Country Code\")\n",
        "```\n",
        "\n",
        "## 2.4. Impute Missing Values with Column Mean for Numerical Columns\n",
        "```\n",
        "numerical_columns = [col[0] for col in df_cleaned.dtypes if col[1] in ['int', 'double']]\n",
        "imputations = {col: df_cleaned.select(mean(col)).collect()[0][0] for col in numerical_columns}\n",
        "df_cleaned = df_cleaned.fillna(imputations)\n",
        "```\n",
        "\n",
        "## 2.5. Cast Numerical Columns to Appropiate Data Type\n",
        "```\n",
        "for col_name in numerical_columns:\n",
        "\tdf_cleaned = df_cleaned.withColumn(col_name, col(col_name).cast(\"float\"))\n",
        "df_cleaned = df_cleaned.withColumn(Year, col(Year).cast(\"int\"))\n",
        "```\n",
        "\n",
        "## 2.6. Changing `IncomeGroup` as `integer`\n",
        "```\n",
        "# Import required packages\n",
        "from pyspark.sql.functions import udf\n",
        "from pyspark.sql.types import IntegerType\n",
        "\n",
        "# Step 1: Define the mapping dictionary\n",
        "income_group_mapping = {\n",
        "    \"Low income\": 1,\n",
        "    \"Lower middle income\": 2,\n",
        "    \"Upper middle income\": 3,\n",
        "    \"High income\": 4\n",
        "}\n",
        "\n",
        "# Step 2: Define a UDF to map the values\n",
        "def map_income_group(value):\n",
        "    return income_group_mapping.get(value, None)\n",
        "\n",
        "# Register the UDF\n",
        "map_income_group_udf = udf(map_income_group, IntegerType())\n",
        "\n",
        "# Step 3: Apply the UDF to transform the Income Group column\n",
        "df_cleaned = df_cleaned.withColumn(\"IncomeGroup\", map_income_group_udf(col(\"IncomeGroup\")))\n",
        "```\n",
        "\n",
        "## 2.7. Check the Cleaned DataFrame\n",
        "```\n",
        "df_cleaned.printSchema()\n",
        "df_cleaned.show(5)\n",
        "df_cleaned.describe().show()\n",
        "```\n",
        "\n",
        "## 2.8. Save the Cleaned DataFrame to HDFS\n",
        "```\n",
        "df_cleaned.write.csv(\"hdfs:///user/root/project/life_expectancy_cleaned.csv\", header=True, mode=\"overwrite\")\n",
        "```\n",
        "\n",
        "## Screenshots of the Environment"
      ]
    },
    {
      "cell_type": "markdown",
      "id": "ec969b1a",
      "metadata": {
        "id": "ec969b1a"
      },
      "source": [
        "![image.png](attachment:image.png)\n",
        "\n",
        "![image-2.png](attachment:image-2.png)\n",
        "\n",
        "![image-3.png](attachment:image-3.png)\n",
        "\n",
        "![image-4.png](attachment:image-4.png)\n",
        "\n",
        "![image-5.png](attachment:image-5.png)\n",
        "\n",
        "![image-6.png](attachment:image-6.png)\n",
        "\n",
        "![image-7.png](attachment:image-7.png)\n",
        "\n",
        "![image-8.png](attachment:image-8.png)\n",
        "\n",
        "![image-9.png](attachment:image-9.png)\n",
        "\n",
        "![image-10.png](attachment:image-10.png)\n",
        "\n",
        "![image-11.png](attachment:image-11.png)\n",
        "\n",
        "![image-12.png](attachment:image-12.png)\n",
        "\n",
        "![image-13.png](attachment:image-13.png)\n",
        "\n",
        "![image-14.png](attachment:image-14.png)\n",
        "\n",
        "![image-15.png](attachment:image-15.png)\n",
        "\n",
        "![image-16.png](attachment:image-16.png)\n",
        "\n",
        "![image-17.png](attachment:image-17.png)\n",
        "\n",
        "![image-18.png](attachment:image-18.png)\n",
        "\n",
        "![image-19.png](attachment:image-19.png)\n",
        "\n",
        "![image-20.png](attachment:image-20.png)\n",
        "\n",
        "![image-21.png](attachment:image-21.png)\n",
        "\n",
        "![image-22.png](attachment:image-22.png)\n",
        "\n",
        "![image-23.png](attachment:image-23.png)\n",
        "\n",
        "![image-24.png](attachment:image-24.png)\n",
        "\n",
        "![image-25.png](attachment:image-25.png)\n",
        "\n",
        "![image-26.png](attachment:image-26.png)\n",
        "\n",
        "![image-27.png](attachment:image-27.png)\n",
        "\n",
        "![image-28.png](attachment:image-28.png)\n",
        "\n",
        "![image-29.png](attachment:image-29.png)\n",
        "\n",
        "![image-30.png](attachment:image-30.png)\n",
        "\n",
        "![image-31.png](attachment:image-31.png)"
      ]
    },
    {
      "cell_type": "markdown",
      "id": "ZImA7X-zy324",
      "metadata": {
        "id": "ZImA7X-zy324"
      },
      "source": [
        "# Part III: ElasticSearch\n",
        "## 3.1. Elastic Index Mappings\n",
        "### Input Code:\n",
        "```\n",
        "{\n",
        "  \"properties\": {\n",
        "    \"CO2\": {\"type\": \"float\"},\n",
        "    \"Communicable\": {\"type\": \"float\"},\n",
        "    \"Corruption\": {\"type\": \"float\"},\n",
        "    \"Country Code\": {\"type\": \"keyword\"},\n",
        "    \"Country Name\": {\"type\": \"keyword\"},\n",
        "    \"Education Expenditure %\": {\"type\": \"float\"},\n",
        "    \"Health Expenditure %\": {\"type\": \"float\"},\n",
        "    \"IncomeGroup\": {\"type\": \"keyword\"},\n",
        "    \"Injuries\": {\"type\": \"float\"},\n",
        "    \"Life Expectancy World Bank\": {\"type\": \"float\"},\n",
        "    \"NonCommunicable\": {\"type\": \"float\"},\n",
        "    \"Prevelance of Undernourishment\": {\"type\": \"float\"},\n",
        "    \"Region\": {\"type\": \"keyword\"},\n",
        "    \"Sanitation\": {\"type\": \"float\"},\n",
        "    \"Unemployment\": {\"type\": \"float\"},\n",
        "    \"Year\": {\"type\": \"date\", \"format\": \"yyyy\"}\n",
        "  }\n",
        "}\n",
        "```\n"
      ]
    },
    {
      "cell_type": "markdown",
      "id": "LOCl-olZ2bMY",
      "metadata": {
        "id": "LOCl-olZ2bMY"
      },
      "source": [
        "## 3.2 Ingest Pipelines with Data Processor\n",
        "### Input Code\n",
        "```\n",
        "{\n",
        "  \"description\": \"Ingest pipeline created by text structure finder\",\n",
        "  \"processors\": [\n",
        "    {\"csv\": {\"field\": \"message\", \"target_fields\": [\"Country Name\", \"Country Code\", \"Region\", \"IncomeGroup\", \"Year\", \"Life Expectancy World Bank\", \"Prevelance of Undernourishment\", \"CO2\", \"Health Expenditure %\", \"Education Expenditure %\", \"Unemployment\", \"Corruption\", \"Sanitation\", \"Injuries\", \"Communicable\", \"NonCommunicable\"], \"ignore_missing\": false}},\n",
        "    {\"rename\": {\"field\": \"CO2\", \"target_field\": \"co2_emissions\", \"ignore_missing\": true}},\n",
        "    {\"rename\": {\"field\": \"Communicable\", \"target_field\": \"communicable\", \"ignore_missing\": true}},\n",
        "    {\"rename\": {\"field\": \"Corruption\", \"target_field\": \"corruption\", \"ignore_missing\": true}},\n",
        "    {\"rename\": {\"field\": \"Country Code\", \"target_field\": \"country_code\", \"ignore_missing\": true}},\n",
        "    {\"rename\": {\"field\": \"Country Name\", \"target_field\": \"country\", \"ignore_missing\": true}},\n",
        "    {\"rename\": {\"field\": \"Education Expenditure %\", \"target_field\": \"education_expenditure\", \"ignore_missing\": true}},\n",
        "    {\"rename\": {\"field\": \"Health Expenditure %\", \"target_field\": \"healthcare_expenditure\", \"ignore_missing\": true}},\n",
        "    {\"rename\": {\"field\": \"IncomeGroup\", \"target_field\": \"income_level\", \"ignore_missing\": true}},\n",
        "    {\"rename\": {\"field\": \"Injuries\", \"target_field\": \"injuries\", \"ignore_missing\": true}},\n",
        "    {\"rename\": {\"field\": \"Life Expectancy World Bank\", \"target_field\": \"life_expectancy\", \"ignore_missing\": true}},\n",
        "    {\"rename\": {\"field\": \"NonCommunicable\", \"target_field\": \"non_communicable\", \"ignore_missing\": true}},\n",
        "    {\"rename\": {\"field\": \"Prevelance of Undernourishment\", \"target_field\": \"undernourishment\", \"ignore_missing\": true}},\n",
        "    {\"rename\": {\"field\": \"Region\", \"target_field\": \"region\", \"ignore_missing\": true}},\n",
        "    {\"rename\": {\"field\": \"Sanitation\", \"target_field\": \"sanitation_level\", \"ignore_missing\": true}},\n",
        "    {\"rename\": {\"field\": \"Unemployment\", \"target_field\": \"unemployment_rate\", \"ignore_missing\": true}},\n",
        "    {\"convert\": {\"field\": \"co2_emissions\", \"type\": \"float\", \"ignore_missing\": true}},\n",
        "    {\"convert\": {\"field\": \"communicable\", \"type\": \"float\", \"ignore_missing\": true}},\n",
        "    {\"convert\": {\"field\": \"corruption\", \"type\": \"float\", \"ignore_missing\": true}},\n",
        "    {\"convert\": {\"field\": \"education_expenditure\", \"type\": \"float\", \"ignore_missing\": true}},\n",
        "    {\"convert\": {\"field\": \"healthcare_expenditure\", \"type\": \"float\", \"ignore_missing\": true}},\n",
        "    {\"convert\": {\"field\": \"injuries\", \"type\": \"float\", \"ignore_missing\": true}},\n",
        "    {\"convert\": {\"field\": \"life_expectancy\", \"type\": \"float\", \"ignore_missing\": true}},\n",
        "    {\"convert\": {\"field\": \"non_communicable\", \"type\": \"float\", \"ignore_missing\": true}},\n",
        "    {\"convert\": {\"field\": \"undernourishment\", \"type\": \"float\", \"ignore_missing\": true}},\n",
        "    {\"convert\": {\"field\": \"sanitation_level\", \"type\": \"float\", \"ignore_missing\": true}},\n",
        "    {\"convert\": {\"field\": \"unemployment_rate\", \"type\": \"float\", \"ignore_missing\": true}},\n",
        "    {\"date\": {\"field\": \"Year\", \"formats\": [\"yyyy\"], \"timezone\": \"UTC\", \"ignore_failure\": true}},\n",
        "    {\"remove\": {\"field\": \"message\"}}\n",
        "  ]\n",
        "}\n",
        "```\n",
        "## Screenshots of the Environment"
      ]
    },
    {
      "cell_type": "code",
      "execution_count": null,
      "id": "FurEmz7-GLyt",
      "metadata": {
        "colab": {
          "base_uri": "https://localhost:8080/",
          "height": 1000
        },
        "id": "FurEmz7-GLyt",
        "outputId": "e377b6e2-f571-48a6-a42d-0b83fbb91b8f"
      },
      "outputs": [
        {
          "data": {
            "text/html": [
              "<img src=\"https://raw.githubusercontent.com/gingkwan/ds8003_f24/refs/heads/main/project/Part_4.2.png\"/>"
            ],
            "text/plain": [
              "<IPython.core.display.Image object>"
            ]
          },
          "execution_count": 4,
          "metadata": {},
          "output_type": "execute_result"
        }
      ],
      "source": [
        "Image(url=\"https://raw.githubusercontent.com/gingkwan/ds8003_f24/refs/heads/main/project/Part_4.2.png\")"
      ]
    },
    {
      "cell_type": "markdown",
      "id": "iy6XiNDHHR31",
      "metadata": {
        "id": "iy6XiNDHHR31"
      },
      "source": [
        "## 3.3. Question 1\n",
        "### Input Code:\n",
        "```\n",
        "POST /life_expectancy/_search\n",
        "{\n",
        "  \"size\": 0,\n",
        "  \"aggs\": {\n",
        "    \"life_expectancy_over_time\": {\n",
        "      \"date_histogram\": {\"field\": \"Year\", \"calendar_interval\": \"year\"},\n",
        "      \"aggs\": {\n",
        "        \"avg_life_expectancy\": {\"avg\": {\"field\": \"life_expectancy\"}},\n",
        "        \"missing_life_expectancy\": {\"missing\": {\"field\": \"life_expectancy\"}}\n",
        "      }\n",
        "    }\n",
        "  }\n",
        "}\n",
        "```\n",
        "\n",
        "### Output Snippet:\n",
        "```\n",
        "{\n",
        "  \"took\": 1,\n",
        "  \"timed_out\": false,\n",
        "  \"_shards\": {\"total\": 1, \"successful\": 1, \"skipped\": 0, \"failed\": 0},\n",
        "  \"hits\": {\"total\": {\"value\": 3306, \"relation\": \"eq\"}, \"max_score\": null, \"hits\": []},\n",
        "  \"aggregations\": {\n",
        "    \"life_expectancy_over_time\": {\n",
        "      \"buckets\": [\n",
        "        {\"key_as_string\": \"2001\", \"key\": 978307200000, \"doc_count\": 174, \"missing_life_expectancy\": {\"doc_count\": 10}, \"avg_life_expectancy\": {\"value\": 66.67023472669648}},\n",
        "        {\"key_as_string\": \"2002\", \"key\": 1009843200000, \"doc_count\": 174, \"missing_life_expectancy\": {\"doc_count\": 9}, \"avg_life_expectancy\": {\"value\": 66.96920750935872}},\n",
        "        {\"key_as_string\": \"2003\", \"key\": 1041379200000, \"doc_count\": 174, \"missing_life_expectancy\": {\"doc_count\": 10}, \"avg_life_expectancy\": {\"value\": 67.19824749085961}},\n",
        "        {\"key_as_string\": \"2004\", \"key\": 1072915200000, \"doc_count\": 174, \"missing_life_expectancy\": {\"doc_count\": 10}, \"avg_life_expectancy\": {\"value\": 67.57582997112739}},\n",
        "        {\"key_as_string\": \"2005\", \"key\": 1104537600000, \"doc_count\": 174, \"missing_life_expectancy\": {\"doc_count\": 9}, \"avg_life_expectancy\": {\"value\": 67.89232489845969}},\n",
        "        {\"key_as_string\": \"2006\", \"key\": 1136073600000, \"doc_count\": 174, \"missing_life_expectancy\": {\"doc_count\": 10}, \"avg_life_expectancy\": {\"value\": 68.24670777669768}},\n",
        "        {\"key_as_string\": \"2007\", \"key\": 1167609600000, \"doc_count\": 174, \"missing_life_expectancy\": {\"doc_count\": 10}, \"avg_life_expectancy\": {\"value\": 68.61899987662711}},\n",
        "        {\"key_as_string\": \"2008\", \"key\": 1199145600000, \"doc_count\": 174, \"missing_life_expectancy\": {\"doc_count\": 10}, \"avg_life_expectancy\": {\"value\": 69.02661228179932}},\n",
        "        {\"key_as_string\": \"2009\", \"key\": 1230768000000, \"doc_count\": 174, \"missing_life_expectancy\": {\"doc_count\": 10}, \"avg_life_expectancy\": {\"value\": 69.44180137355153}},\n",
        "        {\"key_as_string\": \"2010\", \"key\": 1262304000000, \"doc_count\": 174, \"missing_life_expectancy\": {\"doc_count\": 10}, \"avg_life_expectancy\": {\"value\": 69.84225973268835}},\n",
        "        {\"key_as_string\": \"2011\", \"key\": 1293840000000, \"doc_count\": 174, \"missing_life_expectancy\": {\"doc_count\": 10}, \"avg_life_expectancy\": {\"value\": 70.25856706572742}},\n",
        "        {\"key_as_string\": \"2012\", \"key\": 1325376000000, \"doc_count\": 174, \"missing_life_expectancy\": {\"doc_count\": 10}, \"avg_life_expectancy\": {\"value\": 70.62610491310677}},\n",
        "        {\"key_as_string\": \"2013\", \"key\": 1356998400000, \"doc_count\": 174, \"missing_life_expectancy\": {\"doc_count\": 10}, \"avg_life_expectancy\": {\"value\": 70.98988756319372}},\n",
        "        {\"key_as_string\": \"2014\", \"key\": 1388534400000, \"doc_count\": 174, \"missing_life_expectancy\": {\"doc_count\": 10}, \"avg_life_expectancy\": {\"value\": 71.34372974023586}},\n",
        "        {\"key_as_string\": \"2015\", \"key\": 1420070400000, \"doc_count\": 174, \"missing_life_expectancy\": {\"doc_count\": 10}, \"avg_life_expectancy\": {\"value\": 71.59502922616353}},\n",
        "        {\"key_as_string\": \"2016\", \"key\": 1451606400000, \"doc_count\": 174, \"missing_life_expectancy\": {\"doc_count\": 10}, \"avg_life_expectancy\": {\"value\": 71.88926078052056}},\n",
        "        {\"key_as_string\": \"2017\", \"key\": 1483228800000, \"doc_count\": 174, \"missing_life_expectancy\": {\"doc_count\": 10}, \"avg_life_expectancy\": {\"value\": 72.12473341313805}},\n",
        "        {\"key_as_string\": \"2018\", \"key\": 1514764800000, \"doc_count\": 174, \"missing_life_expectancy\": {\"doc_count\": 10}, \"avg_life_expectancy\": {\"value\": 72.34848455103432}},\n",
        "        {\"key_as_string\": \"2019\", \"key\": 1546300800000, \"doc_count\": 174, \"missing_life_expectancy\": {\"doc_count\": 10}, \"avg_life_expectancy\": {\"value\": 72.58911158398884}}\n",
        "      ]\n",
        "    }\n",
        "  }\n",
        "}\n",
        "\n",
        "```\n",
        "\n",
        "## Screenshots of the Environment"
      ]
    },
    {
      "cell_type": "code",
      "execution_count": null,
      "id": "XiQehJ-DHvTJ",
      "metadata": {
        "colab": {
          "base_uri": "https://localhost:8080/",
          "height": 1000
        },
        "id": "XiQehJ-DHvTJ",
        "outputId": "8a211c5c-7736-4241-d6a7-7b1454866fc0"
      },
      "outputs": [
        {
          "data": {
            "text/html": [
              "<img src=\"https://raw.githubusercontent.com/gingkwan/ds8003_f24/refs/heads/main/project/Part_4.3.png\"/>"
            ],
            "text/plain": [
              "<IPython.core.display.Image object>"
            ]
          },
          "execution_count": 5,
          "metadata": {},
          "output_type": "execute_result"
        }
      ],
      "source": [
        "Image(url=\"https://raw.githubusercontent.com/gingkwan/ds8003_f24/refs/heads/main/project/Part_4.3.png\")"
      ]
    },
    {
      "cell_type": "markdown",
      "id": "epcvBroMHvw5",
      "metadata": {
        "id": "epcvBroMHvw5"
      },
      "source": [
        "## 3.4. Question 2\n",
        "### Input Code:\n",
        "```\n",
        "POST /life_expectancy/_search\n",
        "{\n",
        "  \"size\": 0,\n",
        "  \"aggs\": {\n",
        "    \"by_region\": {\n",
        "      \"terms\": {\"field\": \"region.keyword\", \"size\": 10, \"order\": {\"avg_life_expectancy\": \"desc\"}},\n",
        "      \"aggs\": {\n",
        "        \"avg_life_expectancy\": {\"avg\": {\"field\": \"life_expectancy\"}},\n",
        "        \"missing_life_expectancy\": {\"missing\": {\"field\": \"life_expectancy\"}}\n",
        "      }\n",
        "    }\n",
        "  }\n",
        "}\n",
        "```\n",
        "\n",
        "### Output Snippet:\n",
        "```\n",
        "{\n",
        "  \"took\": 3,\n",
        "  \"timed_out\": false,\n",
        "  \"_shards\": {\"total\": 1, \"successful\": 1, \"skipped\": 0, \"failed\": 0},\n",
        "  \"hits\": {\"total\": {\"value\": 3306, \"relation\": \"eq\"}, \"max_score\": null, \"hits\": []},\n",
        "  \"aggregations\": {\n",
        "    \"by_region\": {\n",
        "      \"doc_count_error_upper_bound\": 0,\n",
        "      \"sum_other_doc_count\": 0,\n",
        "      \"buckets\": [\n",
        "        {\"key\": \"North America\", \"doc_count\": 57, \"avg_life_expectancy\": {\"value\": 79.68649814003392}, \"missing_life_expectancy\": {\"doc_count\": 0}},\n",
        "        {\"key\": \"Europe & Central Asia\", \"doc_count\": 893, \"avg_life_expectancy\": {\"value\": 76.18259820983741}, \"missing_life_expectancy\": {\"doc_count\": 57}},\n",
        "        {\"key\": \"Middle East & North Africa\", \"doc_count\": 304, \"avg_life_expectancy\": {\"value\": 74.60599433748345}, \"missing_life_expectancy\": {\"doc_count\": 0}},\n",
        "        {\"key\": \"Latin America & Caribbean\", \"doc_count\": 551, \"avg_life_expectancy\": {\"value\": 73.58897570955374}, \"missing_life_expectancy\": {\"doc_count\": 18}},\n",
        "        {\"key\": \"East Asia & Pacific\", \"doc_count\": 513, \"avg_life_expectancy\": {\"value\": 72.04899799346924}, \"missing_life_expectancy\": {\"doc_count\": 113}},\n",
        "        {\"key\": \"South Asia\", \"doc_count\": 152, \"avg_life_expectancy\": {\"value\": 68.52757898129914}, \"missing_life_expectancy\": {\"doc_count\": 0}},\n",
        "        {\"key\": \"Sub-Saharan Africa\", \"doc_count\": 836, \"avg_life_expectancy\": {\"value\": 57.54266932364286}, \"missing_life_expectancy\": {\"doc_count\": 0}}\n",
        "      ]\n",
        "    }\n",
        "  }\n",
        "}\n",
        "```\n",
        "\n",
        "## Screenshots of the Environment"
      ]
    },
    {
      "cell_type": "code",
      "execution_count": null,
      "id": "6HOxQbREIexe",
      "metadata": {
        "colab": {
          "base_uri": "https://localhost:8080/",
          "height": 1000
        },
        "id": "6HOxQbREIexe",
        "outputId": "5eacf21a-b1c2-4f72-b79c-d665ebb1bb84"
      },
      "outputs": [
        {
          "data": {
            "text/html": [
              "<img src=\"https://raw.githubusercontent.com/gingkwan/ds8003_f24/refs/heads/main/project/Part_4.4.png\"/>"
            ],
            "text/plain": [
              "<IPython.core.display.Image object>"
            ]
          },
          "execution_count": 6,
          "metadata": {},
          "output_type": "execute_result"
        }
      ],
      "source": [
        "Image(url=\"https://raw.githubusercontent.com/gingkwan/ds8003_f24/refs/heads/main/project/Part_4.4.png\")"
      ]
    },
    {
      "cell_type": "markdown",
      "id": "b37c06f6",
      "metadata": {
        "id": "b37c06f6"
      },
      "source": [
        "# Part IV: Data query with Spark for Q3:"
      ]
    },
    {
      "cell_type": "markdown",
      "id": "c9d7e805",
      "metadata": {
        "id": "c9d7e805"
      },
      "source": [
        "## Screenshots of the Environment\n",
        "\n",
        "![image.png](attachment:image.png)\n",
        "\n",
        "![image-2.png](attachment:image-2.png)\n",
        "\n",
        "![image-3.png](attachment:image-3.png)\n",
        "\n",
        "![image-4.png](attachment:image-4.png)\n",
        "\n",
        "![image-5.png](attachment:image-5.png)\n",
        "\n",
        "![image-6.png](attachment:image-6.png)\n"
      ]
    },
    {
      "cell_type": "markdown",
      "id": "VJlCDy3aZboY",
      "metadata": {
        "id": "VJlCDy3aZboY"
      },
      "source": [
        "# Part V: Data Analysis with Hive\n",
        "\n",
        "## 5.1. Start `hive`\n",
        "```\n",
        "hive\n",
        "```\n",
        "\n",
        "## 5.2. Create External Table in Hive\n",
        "```\n",
        "CREATE EXTERNAL TABLE cleaned_life_expectancy (\n",
        "    country_name STRING,\n",
        "    region STRING,\n",
        "    income_group INT,\n",
        "    year FLOAT,\n",
        "    life_expectancy FLOAT,\n",
        "    prevalence_of_undernourishment FLOAT,\n",
        "    co2 FLOAT,\n",
        "    health_expenditure FLOAT,\n",
        "    education_expenditure FLOAT,\n",
        "    unemployment FLOAT,\n",
        "    sanitation FLOAT,\n",
        "    injuries FLOAT,\n",
        "    communicable FLOAT,\n",
        "    non_communicable FLOAT\n",
        ")\n",
        "ROW FORMAT DELIMITED\n",
        "FIELDS TERMINATED BY ','\n",
        "STORED AS TEXTFILE\n",
        "LOCATION 'hdfs:///user/root/project/life_expectancy_cleaned.csv';\n",
        "```\n",
        "\n",
        "## 5.3. To display all rows instead of 1st 20, set the Configuration Parameters:\n",
        "```\n",
        "SET hive.cli.print.header=true;\n",
        "SET hive.fetch.task.conversion=none;\n",
        "```\n",
        "\n",
        "## 5.4. Check cleaned data in Hive:\n",
        "```\n",
        "SELECT * FROM cleaned_life_expectancy LIMIT 10;\n",
        "```\n",
        "\n",
        "## 5.5. Hive query for Question 4:\n",
        "```\n",
        "SELECT year, AVG(life_expectancy) as avg_life_expectancy, AVG(co2) as avg_co2, AVG(sanitation) as avg_sanitation FROM cleaned_life_expectancy GROUP BY year;\n",
        "```\n",
        "\n",
        "## 5.6. Hive query for Question 5:\n",
        "```\n",
        "SELECT year, region, AVG(life_expectancy) as avg_life_expectancy, AVG(injuries) as avg_injuries, AVG(communicable) as avg_communicable, AVG(non_communicable) as avg_non_communicable FROM cleaned_life_expectancy GROUP BY year, region ORDER BY year, region;\n",
        "```\n",
        "\n",
        "## Screenshots of the Environment:"
      ]
    },
    {
      "cell_type": "markdown",
      "id": "100873e5-ef24-4902-a0a4-b73a543bf02f",
      "metadata": {
        "id": "100873e5-ef24-4902-a0a4-b73a543bf02f"
      },
      "source": [
        "![image.png](attachment:image.png)\n",
        "\n",
        "![image-2.png](attachment:image-2.png)\n",
        "\n",
        "![image-3.png](attachment:image-3.png)\n",
        "\n",
        "![image-4.png](attachment:image-4.png)\n",
        "\n",
        "![image-5.png](attachment:image-5.png)\n",
        "\n",
        "![image-6.png](attachment:image-6.png)\n",
        "\n",
        "![image-7.png](attachment:image-7.png)\n",
        "\n",
        "![image-8.png](attachment:image-8.png)\n",
        "\n",
        "![image-9.png](attachment:image-9.png)\n",
        "\n",
        "![image-10.png](attachment:image-10.png)\n",
        "\n",
        "![image-11.png](attachment:image-11.png)\n",
        "\n",
        "![image-12.png](attachment:image-12.png)"
      ]
    }
  ],
  "metadata": {
    "colab": {
      "provenance": []
    },
    "kernelspec": {
      "display_name": "Python 3 (ipykernel)",
      "language": "python",
      "name": "python3"
    },
    "language_info": {
      "codemirror_mode": {
        "name": "ipython",
        "version": 3
      },
      "file_extension": ".py",
      "mimetype": "text/x-python",
      "name": "python",
      "nbconvert_exporter": "python",
      "pygments_lexer": "ipython3",
      "version": "3.12.4"
    }
  },
  "nbformat": 4,
  "nbformat_minor": 5
}